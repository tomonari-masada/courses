{
  "nbformat": 4,
  "nbformat_minor": 0,
  "metadata": {
    "colab": {
      "name": "01_introduction.ipynb",
      "provenance": [],
      "collapsed_sections": [],
      "authorship_tag": "ABX9TyNOWl/z1fXS3tHCgi+sGmoL",
      "include_colab_link": true
    },
    "kernelspec": {
      "name": "python3",
      "display_name": "Python 3"
    }
  },
  "cells": [
    {
      "cell_type": "markdown",
      "metadata": {
        "id": "view-in-github",
        "colab_type": "text"
      },
      "source": [
        "<a href=\"https://colab.research.google.com/github/tomonari-masada/courses/blob/master/01_introduction.ipynb\" target=\"_parent\"><img src=\"https://colab.research.google.com/assets/colab-badge.svg\" alt=\"Open In Colab\"/></a>"
      ]
    },
    {
      "cell_type": "markdown",
      "metadata": {
        "id": "MsPVxG3tSFXu"
      },
      "source": [
        "# 1. イントロダクション\n",
        "* キャメロン・デビッドソン=ピロン(著), 玉木徹(訳)：『Pythonで体験するベイズ推論:PyMCによるMCMC入門』, 森北出版 (2017)\n",
        " * https://www.amazon.co.jp/dp/4627077912"
      ]
    },
    {
      "cell_type": "markdown",
      "metadata": {
        "id": "Z5O6bxfGTCKG"
      },
      "source": [
        "## 1.1 ベイズ推論"
      ]
    },
    {
      "cell_type": "markdown",
      "metadata": {
        "id": "WPa4VLy6S9Xu"
      },
      "source": [
        "### 1.1.1 "
      ]
    }
  ]
}
